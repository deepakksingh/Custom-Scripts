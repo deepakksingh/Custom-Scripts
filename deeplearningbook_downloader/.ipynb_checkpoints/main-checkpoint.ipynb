{
 "cells": [
  {
   "cell_type": "code",
   "execution_count": 12,
   "metadata": {},
   "outputs": [],
   "source": [
    "import requests\n",
    "import pdfkit"
   ]
  },
  {
   "cell_type": "code",
   "execution_count": 27,
   "metadata": {},
   "outputs": [],
   "source": [
    "page = requests.get(\"https://www.deeplearningbook.org/\")"
   ]
  },
  {
   "cell_type": "code",
   "execution_count": 30,
   "metadata": {},
   "outputs": [
    {
     "data": {
      "text/plain": [
       "'b\\'<!DOCTYPE html PUBLIC \"-//W3C//DTD XHTML 1.0 Transitional//EN\" \"http://www.w3.org/TR/xhtml1/DTD/xhtml1-transitional.dtd\">\\\\n<!-- saved from url=(0044)http://www.iro.umontreal.ca/~bengioy/dlbook/ -->\\\\n<html xmlns=\"http://www.w3.org/1999/xhtml\"><head><meta http-equiv=\"Content-Type\" content=\"text/html; charset=ISO-8859-1\">\\\\n \\\\n    <title>Deep Learning</title>\\\\n  </head>\\\\n  <body>\\\\n    <style type=\"text/css\">\\\\n      html{\\\\n        background-image: url(\"udem.jpg\");\\\\n        background-position:center top;\\\\n        background-repeat:no-repeat;\\\\n        width:800px;\\\\n        margin:auto;\\\\n    }\\\\n    </style>\\\\n    <h1><a href=\"front_matter.pdf\">Deep Learning</a></h1>\\\\n    <h2>An MIT Press book</h2>\\\\n    <h3>Ian Goodfellow and Yoshua Bengio and Aaron Courville</h3>\\\\n    <br>\\\\n<div>\\\\n    <center>\\\\n    <a href=\"exercises.html\">Exercises</a> &nbsp\\\\n    <a href=\"lecture_slides.html\">Lectures</a> &nbsp\\\\n    <a href=\"external.html\">External Links</a> &nbsp\\\\n</center>\\\\n</div>\\\\n<p>\\\\nThe Deep Learning textbook is a resource intended to help students\\\\nand practitioners enter the field of machine learning in general\\\\nand deep learning in particular.\\\\nThe online version of the book is now complete and will remain\\\\navailable online for free.\\\\n</p>\\\\n\\\\n<p>The deep learning textbook can now be ordered on\\\\n<a href=\"https://www.amazon.com/Deep-Learning-Adaptive-Computation-Machine/dp/0262035618/ref=sr_1_1?ie=UTF8&qid=1472485235&sr=8-1&keywords=deep+learning+book\">Amazon</a>.\\\\n\\\\n<p>For up to date announcements, join our\\\\n<a href=\"https://groups.google.com/forum/#!forum/deeplearningbook\">mailing list</a>.\\\\n</p>\\\\n   <h2>Citing the book</h2>\\\\n   To cite this book, please use this bibtex entry:\\\\n<tt>\\\\n<pre>\\\\n@book{Goodfellow-et-al-2016,\\\\n    title={Deep Learning},\\\\n    author={Ian Goodfellow and Yoshua Bengio and Aaron Courville},\\\\n    publisher={MIT Press},\\\\n    note={\\\\\\\\url{http://www.deeplearningbook.org}},\\\\n    year={2016}\\\\n}\\\\n</pre>\\\\n</tt>\\\\n\\\\n<p>\\\\nTo write your own document using our LaTeX style, math notation, or\\\\nto copy our notation page, download our\\\\n<a href=\"https://github.com/goodfeli/dlbook_notation\">template</a> files.\\\\n</p>\\\\n\\\\n<p>\\\\n<a href=\"https://docs.google.com/document/d/1ABlp7FluwZ0B82_fjNOFVQ2uOZkfuF8elbofhZmNXag/edit?usp=sharing\">Errata in published editions</a>\\\\n</p>\\\\n\\\\n<h2>Deep Learning</h2>\\\\n    <ul>\\\\n       <li> <a href=\"contents/TOC.html\">Table of Contents</a></li>\\\\n       <li><a href=\"contents/acknowledgements.html\">Acknowledgements</a></li>\\\\n       <li><a href=\"contents/notation.html\">Notation</a></li>\\\\n       <li> <a href=\"contents/intro.html\">1 Introduction</a></li>\\\\n       <li> <a href=\"contents/part_basics.html\">Part I: Applied Math and Machine Learning Basics</a></li>\\\\n        <ul>\\\\n        <li> <a href=\"contents/linear_algebra.html\">2 Linear Algebra</a></li>\\\\n        <li> <a href=\"contents/prob.html\">3 Probability and Information Theory</a></li>\\\\n        <li> <a href=\"contents/numerical.html\">4 Numerical Computation</a></li>\\\\n        <li> <a href=\"contents/ml.html\">5 Machine Learning Basics</a></li>\\\\n        </ul>\\\\n       <li> <a href=\"contents/part_practical.html\">Part II: Modern Practical Deep Networks</a></li>\\\\n        <ul>\\\\n        <li> <a href=\"contents/mlp.html\">6 Deep Feedforward Networks</a></li>\\\\n        <li> <a href=\"contents/regularization.html\">7 Regularization for Deep Learning</a></li>\\\\n        <li> <a href=\"contents/optimization.html\">8 Optimization for Training Deep Models</a></li>\\\\n        <li> <a href=\"contents/convnets.html\">9 Convolutional Networks</a></li>\\\\n        <li> <a href=\"contents/rnn.html\">10 Sequence Modeling: Recurrent and Recursive Nets</a></li>\\\\n        <li> <a href=\"contents/guidelines.html\">11 Practical Methodology</a></li>\\\\n        <li> <a href=\"contents/applications.html\">12 Applications</a></li>\\\\n        </ul>\\\\n       <li> <a href=\"contents/part_research.html\">Part III: Deep Learning Research</a></li>\\\\n        <ul>\\\\n        <li> <a href=\"contents/linear_factors.html\">13 Linear Factor Models</a></li>\\\\n        <li> <a href=\"contents/autoencoders.html\">14 Autoencoders</a></li>\\\\n        <li> <a href=\"contents/representation.html\">15 Representation Learning</a></li>\\\\n        <li> <a href=\"contents/graphical_models.html\">16 Structured Probabilistic Models for Deep Learning</a></li>\\\\n        <li> <a href=\"contents/monte_carlo.html\">17 Monte Carlo Methods</a></li>\\\\n        <li> <a href=\"contents/partition.html\">18 Confronting the Partition Function</a></li>\\\\n        <li> <a href=\"contents/inference.html\">19 Approximate Inference</a></li>\\\\n        <li> <a href=\"contents/generative_models.html\">20 Deep Generative Models</a></li>\\\\n        </ul>\\\\n      </ul>\\\\n     <li> <a href=\"contents/bib.html\">Bibliography</a></li>\\\\n     <li> <a href=\"contents/index-.html\">Index</a></li>\\\\n    </ul>\\\\n    <p><br>\\\\n    </p>\\\\n\\\\n\\\\n<h2>FAQ</h2>\\\\n<ul>\\\\n<li>Can I get a PDF of this book?\\\\n<p>No, our contract with MIT Press forbids distribution of too easily copied\\\\nelectronic formats of the book.\\\\n</p>\\\\n</li>\\\\n<li>Why are you using HTML format for the web version of the book?\\\\n<p>This format is a sort of weak DRM required by our contract with MIT Press.\\\\nIt\\\\\\'s intended to discourage unauthorized copying/editing\\\\nof the book. \\\\n</p></li>\\\\n<li>What is the best way to print the HTML format?\\\\n<p>Printing seems to work best printing directly from the browser, using Chrome.\\\\nOther browsers do not work as well.\\\\n</p>\\\\n</li>\\\\n<li>Can I translate the book into Chinese?</li>\\\\n<p>Posts and Telecom Press has purchased the rights.\\\\n</p>\\\\n</ul>\\\\n\\\\n<p>\\\\nIf you notice any typos (besides the known issues listed below) or have suggestions for exercises to add to the\\\\nwebsite, do not hesitate to contact the authors directly by e-mail\\\\nat: feedback@deeplearningbook.org \\\\n</p>\\\\n<p>\\\\nSince the book is complete and in print, we do not make large changes,\\\\nonly small corrections.\\\\n</p>\\\\n<p>Known issues: In outdated versions of the Edge\\\\nbrowser, the \"does not equal\" sign sometimes appears as the \"equals\" sign.\\\\nThis may be resolved by updating to the latest version.\\\\n</p>\\\\n  </body>\\\\n</html>\\\\n\\''"
      ]
     },
     "execution_count": 30,
     "metadata": {},
     "output_type": "execute_result"
    }
   ],
   "source": []
  },
  {
   "cell_type": "code",
   "execution_count": 14,
   "metadata": {},
   "outputs": [],
   "source": [
    "from bs4 import BeautifulSoup"
   ]
  },
  {
   "cell_type": "code",
   "execution_count": 20,
   "metadata": {},
   "outputs": [],
   "source": [
    "soup = BeautifulSoup(page.content, 'html.parser')"
   ]
  },
  {
   "cell_type": "code",
   "execution_count": 26,
   "metadata": {},
   "outputs": [
    {
     "data": {
      "text/plain": [
       "str"
      ]
     },
     "execution_count": 26,
     "metadata": {},
     "output_type": "execute_result"
    }
   ],
   "source": [
    "type(soup.prettify())"
   ]
  },
  {
   "cell_type": "code",
   "execution_count": 16,
   "metadata": {},
   "outputs": [],
   "source": [
    "#get all the necessary components\n",
    "links_and_text=[]\n",
    "for node in soup.select(\"li a\"):\n",
    "    temp_link = node['href']\n",
    "    temp_text = node.get_text()\n",
    "#     print(f\"link: {temp_link} | text: {temp_text}\")\n",
    "    temp = (temp_link, temp_text)\n",
    "    links_and_text.append(temp)"
   ]
  },
  {
   "cell_type": "code",
   "execution_count": 17,
   "metadata": {},
   "outputs": [
    {
     "name": "stdout",
     "output_type": "stream",
     "text": [
      "['contents/TOC.html', 'contents/acknowledgements.html', 'contents/notation.html', 'contents/intro.html', 'contents/part_basics.html', 'contents/linear_algebra.html', 'contents/prob.html', 'contents/numerical.html', 'contents/ml.html', 'contents/part_practical.html', 'contents/mlp.html', 'contents/regularization.html', 'contents/optimization.html', 'contents/convnets.html', 'contents/rnn.html', 'contents/guidelines.html', 'contents/applications.html', 'contents/part_research.html', 'contents/linear_factors.html', 'contents/autoencoders.html', 'contents/representation.html', 'contents/graphical_models.html', 'contents/monte_carlo.html', 'contents/partition.html', 'contents/inference.html', 'contents/generative_models.html', 'contents/bib.html', 'contents/index-.html']\n"
     ]
    }
   ],
   "source": [
    "#get list of urls and texts\n",
    "urls_arr = [entry[0] for entry in links_and_text]\n",
    "text_arr = [entry[1] for entry in links_and_text]\n",
    "print(urls_arr)"
   ]
  },
  {
   "cell_type": "code",
   "execution_count": 43,
   "metadata": {},
   "outputs": [
    {
     "name": "stdout",
     "output_type": "stream",
     "text": [
      "my 200\n",
      "Loading page (1/2)\n",
      "Printing pages (2/2)                                               \n",
      "Done                                                           \n",
      "my 200\n",
      "Loading page (1/2)\n",
      "Printing pages (2/2)                                               \n",
      "Done                                                           \n",
      "my 200\n",
      "Loading page (1/2)\n",
      "Printing pages (2/2)                                               \n",
      "Done                                                           \n",
      "my 200\n",
      "Loading page (1/2)\n",
      "Printing pages (2/2)                                               \n",
      "Done                                                           \n"
     ]
    }
   ],
   "source": [
    "# https://www.deeplearningbook.org/contents/TOC.html\n",
    "BASE_URL = 'https://www.deeplearningbook.org/'\n",
    "upto = 4\n",
    "for i in range(len(urls_arr)):\n",
    "    url = urls_arr[i]\n",
    "    final_url = BASE_URL+url\n",
    "    page = requests.get(final_url)\n",
    "    \n",
    "    if(page.status_code is 200):\n",
    "        print(\"my 200\")\n",
    "        temp_soup = BeautifulSoup(page.content, \"html.parser\")\n",
    "#         content_str = temp_soup.prettify()\n",
    "        body_str = str(temp_soup.find('body'))\n",
    "        \n",
    "        \n",
    "#         pdfkit.from_url(final_url,text_arr[i]+\",pdf\")\n",
    "        pdfkit.from_string(body_str,text_arr[i]+\",pdf\")\n",
    "        \n",
    "        upto-=1\n",
    "        if not upto:\n",
    "            break\n",
    "        \n",
    "        #give the page content and page name to save as pdf\n",
    "    "
   ]
  },
  {
   "cell_type": "code",
   "execution_count": 36,
   "metadata": {},
   "outputs": [
    {
     "name": "stdout",
     "output_type": "stream",
     "text": [
      "Loading page (1/2)\n",
      "[>                                                           ] 0%\r",
      "[======>                                                     ] 10%\r",
      "[==============================>                             ] 50%\r",
      "[============================================================] 100%\r",
      "Printing pages (2/2)                                               \n",
      "[>                                                           ] \r",
      "Done                                                           \n"
     ]
    },
    {
     "data": {
      "text/plain": [
       "True"
      ]
     },
     "execution_count": 36,
     "metadata": {},
     "output_type": "execute_result"
    }
   ],
   "source": [
    "htmlstr = '<h2>Heading 2</h2><p>Sample paragraph.</p>'\n",
    "\n",
    "pdfkit.from_string(htmlstr, 'sample.pdf') \n"
   ]
  },
  {
   "cell_type": "code",
   "execution_count": null,
   "metadata": {},
   "outputs": [],
   "source": []
  }
 ],
 "metadata": {
  "kernelspec": {
   "display_name": "Python 3",
   "language": "python",
   "name": "python3"
  },
  "language_info": {
   "codemirror_mode": {
    "name": "ipython",
    "version": 3
   },
   "file_extension": ".py",
   "mimetype": "text/x-python",
   "name": "python",
   "nbconvert_exporter": "python",
   "pygments_lexer": "ipython3",
   "version": "3.7.3"
  }
 },
 "nbformat": 4,
 "nbformat_minor": 2
}
